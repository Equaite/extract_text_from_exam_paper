{
 "cells": [
  {
   "cell_type": "code",
   "execution_count": 1,
   "metadata": {},
   "outputs": [
    {
     "data": {
      "text/plain": [
       "True"
      ]
     },
     "execution_count": 1,
     "metadata": {},
     "output_type": "execute_result"
    }
   ],
   "source": [
    "import os\n",
    "import base64\n",
    "import json\n",
    "import requests\n",
    "from dotenv import load_dotenv\n",
    "from pathlib import Path\n",
    "from PIL import Image\n",
    "import pdfplumber\n",
    "from pdf2image import convert_from_path\n",
    "from langchain_community.document_loaders import PyPDFLoader\n",
    "\n",
    "load_dotenv(override=True)"
   ]
  },
  {
   "cell_type": "code",
   "execution_count": 2,
   "metadata": {},
   "outputs": [],
   "source": [
    "# OpenAI API Key\n",
    "api_key = os.getenv(\"OPENAI_API_KEY\")"
   ]
  },
  {
   "cell_type": "code",
   "execution_count": 3,
   "metadata": {},
   "outputs": [],
   "source": [
    "# Function to encode the image\n",
    "def encode_image(image_path):\n",
    "  with open(image_path, \"rb\") as image_file:\n",
    "    return base64.b64encode(image_file.read()).decode('utf-8')\n"
   ]
  },
  {
   "cell_type": "code",
   "execution_count": 10,
   "metadata": {},
   "outputs": [
    {
     "ename": "KeyboardInterrupt",
     "evalue": "",
     "output_type": "error",
     "traceback": [
      "\u001b[0;31m---------------------------------------------------------------------------\u001b[0m",
      "\u001b[0;31mKeyboardInterrupt\u001b[0m                         Traceback (most recent call last)",
      "Cell \u001b[0;32mIn[10], line 3\u001b[0m\n\u001b[1;32m      1\u001b[0m pdfpath \u001b[38;5;241m=\u001b[39m Path(\u001b[38;5;124m\"\u001b[39m\u001b[38;5;124m./data/edexcel_business_studies/\u001b[39m\u001b[38;5;124m\"\u001b[39m)\n\u001b[0;32m----> 3\u001b[0m images \u001b[38;5;241m=\u001b[39m \u001b[43mconvert_from_path\u001b[49m\u001b[43m(\u001b[49m\u001b[43mpdfpath\u001b[49m\u001b[43m \u001b[49m\u001b[38;5;241;43m/\u001b[39;49m\u001b[43m \u001b[49m\u001b[38;5;124;43m\"\u001b[39;49m\u001b[38;5;124;43m5123.pdf\u001b[39;49m\u001b[38;5;124;43m\"\u001b[39;49m\u001b[43m,\u001b[49m\u001b[43m \u001b[49m\u001b[43mfmt\u001b[49m\u001b[38;5;241;43m=\u001b[39;49m\u001b[38;5;124;43m'\u001b[39;49m\u001b[38;5;124;43mpng\u001b[39;49m\u001b[38;5;124;43m'\u001b[39;49m\u001b[43m)\u001b[49m\n",
      "File \u001b[0;32m~/.virtualenvs/extract_questions_from_paper/lib/python3.9/site-packages/pdf2image/pdf2image.py:251\u001b[0m, in \u001b[0;36mconvert_from_path\u001b[0;34m(pdf_path, dpi, output_folder, first_page, last_page, fmt, jpegopt, thread_count, userpw, ownerpw, use_cropbox, strict, transparent, single_file, output_file, poppler_path, grayscale, size, paths_only, use_pdftocairo, timeout, hide_annotations)\u001b[0m\n\u001b[1;32m    249\u001b[0m \u001b[38;5;28;01mfor\u001b[39;00m uid, proc \u001b[38;5;129;01min\u001b[39;00m processes:\n\u001b[1;32m    250\u001b[0m     \u001b[38;5;28;01mtry\u001b[39;00m:\n\u001b[0;32m--> 251\u001b[0m         data, err \u001b[38;5;241m=\u001b[39m \u001b[43mproc\u001b[49m\u001b[38;5;241;43m.\u001b[39;49m\u001b[43mcommunicate\u001b[49m\u001b[43m(\u001b[49m\u001b[43mtimeout\u001b[49m\u001b[38;5;241;43m=\u001b[39;49m\u001b[43mtimeout\u001b[49m\u001b[43m)\u001b[49m\n\u001b[1;32m    252\u001b[0m     \u001b[38;5;28;01mexcept\u001b[39;00m TimeoutExpired:\n\u001b[1;32m    253\u001b[0m         proc\u001b[38;5;241m.\u001b[39mkill()\n",
      "File \u001b[0;32m~/.pyenv/versions/3.9.7/lib/python3.9/subprocess.py:1134\u001b[0m, in \u001b[0;36mPopen.communicate\u001b[0;34m(self, input, timeout)\u001b[0m\n\u001b[1;32m   1131\u001b[0m     endtime \u001b[38;5;241m=\u001b[39m \u001b[38;5;28;01mNone\u001b[39;00m\n\u001b[1;32m   1133\u001b[0m \u001b[38;5;28;01mtry\u001b[39;00m:\n\u001b[0;32m-> 1134\u001b[0m     stdout, stderr \u001b[38;5;241m=\u001b[39m \u001b[38;5;28;43mself\u001b[39;49m\u001b[38;5;241;43m.\u001b[39;49m\u001b[43m_communicate\u001b[49m\u001b[43m(\u001b[49m\u001b[38;5;28;43minput\u001b[39;49m\u001b[43m,\u001b[49m\u001b[43m \u001b[49m\u001b[43mendtime\u001b[49m\u001b[43m,\u001b[49m\u001b[43m \u001b[49m\u001b[43mtimeout\u001b[49m\u001b[43m)\u001b[49m\n\u001b[1;32m   1135\u001b[0m \u001b[38;5;28;01mexcept\u001b[39;00m \u001b[38;5;167;01mKeyboardInterrupt\u001b[39;00m:\n\u001b[1;32m   1136\u001b[0m     \u001b[38;5;66;03m# https://bugs.python.org/issue25942\u001b[39;00m\n\u001b[1;32m   1137\u001b[0m     \u001b[38;5;66;03m# See the detailed comment in .wait().\u001b[39;00m\n\u001b[1;32m   1138\u001b[0m     \u001b[38;5;28;01mif\u001b[39;00m timeout \u001b[38;5;129;01mis\u001b[39;00m \u001b[38;5;129;01mnot\u001b[39;00m \u001b[38;5;28;01mNone\u001b[39;00m:\n",
      "File \u001b[0;32m~/.pyenv/versions/3.9.7/lib/python3.9/subprocess.py:1979\u001b[0m, in \u001b[0;36mPopen._communicate\u001b[0;34m(self, input, endtime, orig_timeout)\u001b[0m\n\u001b[1;32m   1972\u001b[0m     \u001b[38;5;28mself\u001b[39m\u001b[38;5;241m.\u001b[39m_check_timeout(endtime, orig_timeout,\n\u001b[1;32m   1973\u001b[0m                         stdout, stderr,\n\u001b[1;32m   1974\u001b[0m                         skip_check_and_raise\u001b[38;5;241m=\u001b[39m\u001b[38;5;28;01mTrue\u001b[39;00m)\n\u001b[1;32m   1975\u001b[0m     \u001b[38;5;28;01mraise\u001b[39;00m \u001b[38;5;167;01mRuntimeError\u001b[39;00m(  \u001b[38;5;66;03m# Impossible :)\u001b[39;00m\n\u001b[1;32m   1976\u001b[0m         \u001b[38;5;124m'\u001b[39m\u001b[38;5;124m_check_timeout(..., skip_check_and_raise=True) \u001b[39m\u001b[38;5;124m'\u001b[39m\n\u001b[1;32m   1977\u001b[0m         \u001b[38;5;124m'\u001b[39m\u001b[38;5;124mfailed to raise TimeoutExpired.\u001b[39m\u001b[38;5;124m'\u001b[39m)\n\u001b[0;32m-> 1979\u001b[0m ready \u001b[38;5;241m=\u001b[39m \u001b[43mselector\u001b[49m\u001b[38;5;241;43m.\u001b[39;49m\u001b[43mselect\u001b[49m\u001b[43m(\u001b[49m\u001b[43mtimeout\u001b[49m\u001b[43m)\u001b[49m\n\u001b[1;32m   1980\u001b[0m \u001b[38;5;28mself\u001b[39m\u001b[38;5;241m.\u001b[39m_check_timeout(endtime, orig_timeout, stdout, stderr)\n\u001b[1;32m   1982\u001b[0m \u001b[38;5;66;03m# XXX Rewrite these to use non-blocking I/O on the file\u001b[39;00m\n\u001b[1;32m   1983\u001b[0m \u001b[38;5;66;03m# objects; they are no longer using C stdio!\u001b[39;00m\n",
      "File \u001b[0;32m~/.pyenv/versions/3.9.7/lib/python3.9/selectors.py:416\u001b[0m, in \u001b[0;36m_PollLikeSelector.select\u001b[0;34m(self, timeout)\u001b[0m\n\u001b[1;32m    414\u001b[0m ready \u001b[38;5;241m=\u001b[39m []\n\u001b[1;32m    415\u001b[0m \u001b[38;5;28;01mtry\u001b[39;00m:\n\u001b[0;32m--> 416\u001b[0m     fd_event_list \u001b[38;5;241m=\u001b[39m \u001b[38;5;28;43mself\u001b[39;49m\u001b[38;5;241;43m.\u001b[39;49m\u001b[43m_selector\u001b[49m\u001b[38;5;241;43m.\u001b[39;49m\u001b[43mpoll\u001b[49m\u001b[43m(\u001b[49m\u001b[43mtimeout\u001b[49m\u001b[43m)\u001b[49m\n\u001b[1;32m    417\u001b[0m \u001b[38;5;28;01mexcept\u001b[39;00m \u001b[38;5;167;01mInterruptedError\u001b[39;00m:\n\u001b[1;32m    418\u001b[0m     \u001b[38;5;28;01mreturn\u001b[39;00m ready\n",
      "\u001b[0;31mKeyboardInterrupt\u001b[0m: "
     ]
    }
   ],
   "source": [
    "pdfpath = Path(\"./data/edexcel_business_studies/\")\n",
    "\n",
    "images = convert_from_path(pdfpath / \"5123.pdf\", fmt='png')"
   ]
  },
  {
   "cell_type": "code",
   "execution_count": 11,
   "metadata": {},
   "outputs": [
    {
     "data": {
      "text/plain": [
       "28"
      ]
     },
     "execution_count": 11,
     "metadata": {},
     "output_type": "execute_result"
    }
   ],
   "source": [
    "len(images)"
   ]
  },
  {
   "cell_type": "code",
   "execution_count": 12,
   "metadata": {},
   "outputs": [
    {
     "data": {
      "text/plain": [
       "[<PIL.PpmImagePlugin.PpmImageFile image mode=RGB size=4595x6495>,\n",
       " <PIL.PpmImagePlugin.PpmImageFile image mode=RGB size=4595x6495>,\n",
       " <PIL.PpmImagePlugin.PpmImageFile image mode=RGB size=4595x6495>,\n",
       " <PIL.PpmImagePlugin.PpmImageFile image mode=RGB size=4595x6495>,\n",
       " <PIL.PpmImagePlugin.PpmImageFile image mode=RGB size=4595x6495>,\n",
       " <PIL.PpmImagePlugin.PpmImageFile image mode=RGB size=4595x6495>,\n",
       " <PIL.PpmImagePlugin.PpmImageFile image mode=RGB size=4595x6495>,\n",
       " <PIL.PpmImagePlugin.PpmImageFile image mode=RGB size=4595x6495>,\n",
       " <PIL.PpmImagePlugin.PpmImageFile image mode=RGB size=4595x6495>,\n",
       " <PIL.PpmImagePlugin.PpmImageFile image mode=RGB size=4595x6495>,\n",
       " <PIL.PpmImagePlugin.PpmImageFile image mode=RGB size=4595x6495>,\n",
       " <PIL.PpmImagePlugin.PpmImageFile image mode=RGB size=4595x6495>,\n",
       " <PIL.PpmImagePlugin.PpmImageFile image mode=RGB size=4595x6495>,\n",
       " <PIL.PpmImagePlugin.PpmImageFile image mode=RGB size=4595x6495>,\n",
       " <PIL.PpmImagePlugin.PpmImageFile image mode=RGB size=4595x6495>,\n",
       " <PIL.PpmImagePlugin.PpmImageFile image mode=RGB size=4595x6495>,\n",
       " <PIL.PpmImagePlugin.PpmImageFile image mode=RGB size=4595x6495>,\n",
       " <PIL.PpmImagePlugin.PpmImageFile image mode=RGB size=4595x6495>,\n",
       " <PIL.PpmImagePlugin.PpmImageFile image mode=RGB size=4595x6495>,\n",
       " <PIL.PpmImagePlugin.PpmImageFile image mode=RGB size=4595x6495>,\n",
       " <PIL.PpmImagePlugin.PpmImageFile image mode=RGB size=4595x6495>,\n",
       " <PIL.PpmImagePlugin.PpmImageFile image mode=RGB size=4595x6495>,\n",
       " <PIL.PpmImagePlugin.PpmImageFile image mode=RGB size=4595x6495>,\n",
       " <PIL.PpmImagePlugin.PpmImageFile image mode=RGB size=4595x6495>,\n",
       " <PIL.PpmImagePlugin.PpmImageFile image mode=RGB size=4595x6495>,\n",
       " <PIL.PpmImagePlugin.PpmImageFile image mode=RGB size=4595x6495>,\n",
       " <PIL.PpmImagePlugin.PpmImageFile image mode=RGB size=4595x6495>,\n",
       " <PIL.PpmImagePlugin.PpmImageFile image mode=RGB size=4595x6495>]"
      ]
     },
     "execution_count": 12,
     "metadata": {},
     "output_type": "execute_result"
    }
   ],
   "source": [
    "images"
   ]
  },
  {
   "cell_type": "code",
   "execution_count": 309,
   "metadata": {},
   "outputs": [
    {
     "data": {
      "text/plain": [
       "[<PIL.PpmImagePlugin.PpmImageFile image mode=RGB size=4595x6495>,\n",
       " <PIL.PpmImagePlugin.PpmImageFile image mode=RGB size=4595x6495>,\n",
       " <PIL.PpmImagePlugin.PpmImageFile image mode=RGB size=4595x6495>,\n",
       " <PIL.PpmImagePlugin.PpmImageFile image mode=RGB size=4595x6495>,\n",
       " <PIL.PpmImagePlugin.PpmImageFile image mode=RGB size=4595x6495>,\n",
       " <PIL.PpmImagePlugin.PpmImageFile image mode=RGB size=4595x6495>]"
      ]
     },
     "execution_count": 309,
     "metadata": {},
     "output_type": "execute_result"
    }
   ],
   "source": [
    "[images[5:8] + images[13:16]]"
   ]
  },
  {
   "cell_type": "code",
   "execution_count": 311,
   "metadata": {},
   "outputs": [
    {
     "data": {
      "text/plain": [
       "[None, None, None, None, None, None]"
      ]
     },
     "execution_count": 311,
     "metadata": {},
     "output_type": "execute_result"
    }
   ],
   "source": [
    "# Save a subset of pages\n",
    "[image.save(f\"img{idx+1}.png\", 'png') for idx, image in enumerate(images[5:8] + images[13:16])]"
   ]
  },
  {
   "cell_type": "code",
   "execution_count": 314,
   "metadata": {},
   "outputs": [
    {
     "data": {
      "text/plain": [
       "['img1.png', 'img2.png', 'img3.png', 'img4.png', 'img5.png', 'img6.png']"
      ]
     },
     "execution_count": 314,
     "metadata": {},
     "output_type": "execute_result"
    }
   ],
   "source": [
    "# Load PDF\n",
    "import glob\n",
    "img_paths = list(glob.glob(\"*.png\"))\n",
    "img_paths = sorted(img_paths)\n",
    "img_paths"
   ]
  },
  {
   "cell_type": "code",
   "execution_count": 315,
   "metadata": {},
   "outputs": [
    {
     "data": {
      "text/html": [
       "<div>\n",
       "<style scoped>\n",
       "    .dataframe tbody tr th:only-of-type {\n",
       "        vertical-align: middle;\n",
       "    }\n",
       "\n",
       "    .dataframe tbody tr th {\n",
       "        vertical-align: top;\n",
       "    }\n",
       "\n",
       "    .dataframe thead th {\n",
       "        text-align: right;\n",
       "    }\n",
       "</style>\n",
       "<table border=\"1\" class=\"dataframe\">\n",
       "  <thead>\n",
       "    <tr style=\"text-align: right;\">\n",
       "      <th></th>\n",
       "      <th>page_number</th>\n",
       "      <th>encoded_image</th>\n",
       "    </tr>\n",
       "  </thead>\n",
       "  <tbody>\n",
       "    <tr>\n",
       "      <th>0</th>\n",
       "      <td>1</td>\n",
       "      <td>iVBORw0KGgoAAAANSUhEUgAAEfMAABlfCAIAAAAvdKTrAA...</td>\n",
       "    </tr>\n",
       "    <tr>\n",
       "      <th>1</th>\n",
       "      <td>2</td>\n",
       "      <td>iVBORw0KGgoAAAANSUhEUgAAEfMAABlfCAIAAAAvdKTrAA...</td>\n",
       "    </tr>\n",
       "    <tr>\n",
       "      <th>2</th>\n",
       "      <td>3</td>\n",
       "      <td>iVBORw0KGgoAAAANSUhEUgAAEfMAABlfCAIAAAAvdKTrAA...</td>\n",
       "    </tr>\n",
       "    <tr>\n",
       "      <th>3</th>\n",
       "      <td>4</td>\n",
       "      <td>iVBORw0KGgoAAAANSUhEUgAAEfMAABlfCAIAAAAvdKTrAA...</td>\n",
       "    </tr>\n",
       "    <tr>\n",
       "      <th>4</th>\n",
       "      <td>5</td>\n",
       "      <td>iVBORw0KGgoAAAANSUhEUgAAEfMAABlfCAIAAAAvdKTrAA...</td>\n",
       "    </tr>\n",
       "    <tr>\n",
       "      <th>5</th>\n",
       "      <td>6</td>\n",
       "      <td>iVBORw0KGgoAAAANSUhEUgAAEfMAABlfCAIAAAAvdKTrAA...</td>\n",
       "    </tr>\n",
       "  </tbody>\n",
       "</table>\n",
       "</div>"
      ],
      "text/plain": [
       "   page_number                                      encoded_image\n",
       "0            1  iVBORw0KGgoAAAANSUhEUgAAEfMAABlfCAIAAAAvdKTrAA...\n",
       "1            2  iVBORw0KGgoAAAANSUhEUgAAEfMAABlfCAIAAAAvdKTrAA...\n",
       "2            3  iVBORw0KGgoAAAANSUhEUgAAEfMAABlfCAIAAAAvdKTrAA...\n",
       "3            4  iVBORw0KGgoAAAANSUhEUgAAEfMAABlfCAIAAAAvdKTrAA...\n",
       "4            5  iVBORw0KGgoAAAANSUhEUgAAEfMAABlfCAIAAAAvdKTrAA...\n",
       "5            6  iVBORw0KGgoAAAANSUhEUgAAEfMAABlfCAIAAAAvdKTrAA..."
      ]
     },
     "execution_count": 315,
     "metadata": {},
     "output_type": "execute_result"
    }
   ],
   "source": [
    "import pandas as pd\n",
    "page_num = [1, 2, 3, 4, 5, 6]\n",
    "encoded_imgs = [encode_image(v) for v in img_paths]\n",
    "\n",
    "img_df = pd.DataFrame({\"page_number\": page_num, \"encoded_image\": encoded_imgs})\n",
    "img_df = img_df.sort_values(by='page_number').reset_index(drop=True)\n",
    "img_df"
   ]
  },
  {
   "cell_type": "code",
   "execution_count": 316,
   "metadata": {},
   "outputs": [],
   "source": [
    "prompt = \"\"\"\n",
    "You are given a page from an exam paper. \n",
    "Extract the question parts mentioned in the page. \n",
    "Every question number will have a letter denoting the question.\n",
    "Read the page and return in the letters of the questions as a tuple.\n",
    "\n",
    "If no question parts are detected, return an empty tuple. Return nothing but the tuple.\n",
    "\"\"\"\n",
    "\n",
    "headers = {\n",
    "  \"Content-Type\": \"application/json\",\n",
    "  \"Authorization\": f\"Bearer {api_key}\"\n",
    "}\n",
    "\n",
    "model_name = \"gpt-4o\""
   ]
  },
  {
   "cell_type": "code",
   "execution_count": 317,
   "metadata": {},
   "outputs": [],
   "source": [
    "extracted_tuples = []\n",
    "for idx, encoded_img in enumerate(list(img_df.encoded_image)):\n",
    "\n",
    "  payload = {\n",
    "      \"model\": model_name,\n",
    "      \"messages\": [\n",
    "        {\n",
    "          \"role\": \"user\",\n",
    "          \"content\": [\n",
    "            {\n",
    "              \"type\": \"text\",\n",
    "              \"text\": f\"{prompt}\"\n",
    "            },\n",
    "            {\n",
    "              \"type\": \"image_url\",\n",
    "              \"image_url\": {\n",
    "                \"url\": f\"data:image/jpeg;base64,{encoded_img}\"\n",
    "              }\n",
    "            }\n",
    "          ]\n",
    "        }\n",
    "      ],\n",
    "      \"max_tokens\": 500\n",
    "  }\n",
    "\n",
    "  response = requests.post(\"https://api.openai.com/v1/chat/completions\", headers=headers, json=payload)\n",
    "  response_content = response.json()[\"choices\"][0][\"message\"][\"content\"]\n",
    "  \n",
    "  extracted_tuples.append(response_content)"
   ]
  },
  {
   "cell_type": "code",
   "execution_count": 343,
   "metadata": {},
   "outputs": [
    {
     "data": {
      "text/plain": [
       "[\"('a', 'b')\", \"('c', 'd')\", \"('e',)\", \"('a', 'b')\", \"('c',)\", '()']"
      ]
     },
     "execution_count": 343,
     "metadata": {},
     "output_type": "execute_result"
    }
   ],
   "source": []
  },
  {
   "cell_type": "code",
   "execution_count": 64,
   "metadata": {},
   "outputs": [],
   "source": [
    "import re\n",
    "\n",
    "def extract_tuple(text):\n",
    "    # Define the regex patterns to find the tuples\n",
    "    pattern_ab = r\"\\('([a-z])', '([a-z])'\\)\"\n",
    "    pattern_c = r\"\\('([a-z])',?\\)\"\n",
    "    pattern_empty = r\"\\(\\)\"\n",
    "    \n",
    "    # Search for the tuples in the text\n",
    "    match_ab = re.search(pattern_ab, text)\n",
    "    match_c = re.search(pattern_c, text)\n",
    "    match_empty = re.search(pattern_empty, text)\n",
    "    \n",
    "    # Check for the tuples and return the corresponding result\n",
    "    if match_ab:\n",
    "        return match_ab.groups()\n",
    "    elif match_c and not match_ab:\n",
    "        return (match_c.groups()[0],)\n",
    "    elif match_empty:\n",
    "        return ()\n",
    "    else:\n",
    "        return None"
   ]
  },
  {
   "cell_type": "code",
   "execution_count": 318,
   "metadata": {},
   "outputs": [
    {
     "data": {
      "text/plain": [
       "[('a', 'b'), ('c', 'd'), ('e',), ('a', 'b'), ('c',), ()]"
      ]
     },
     "execution_count": 318,
     "metadata": {},
     "output_type": "execute_result"
    }
   ],
   "source": [
    "question_parts = [extract_tuple(i) for i in extracted_tuples]\n",
    "question_parts"
   ]
  },
  {
   "cell_type": "code",
   "execution_count": 319,
   "metadata": {},
   "outputs": [
    {
     "data": {
      "text/html": [
       "<div>\n",
       "<style scoped>\n",
       "    .dataframe tbody tr th:only-of-type {\n",
       "        vertical-align: middle;\n",
       "    }\n",
       "\n",
       "    .dataframe tbody tr th {\n",
       "        vertical-align: top;\n",
       "    }\n",
       "\n",
       "    .dataframe thead th {\n",
       "        text-align: right;\n",
       "    }\n",
       "</style>\n",
       "<table border=\"1\" class=\"dataframe\">\n",
       "  <thead>\n",
       "    <tr style=\"text-align: right;\">\n",
       "      <th></th>\n",
       "      <th>page_number</th>\n",
       "      <th>encoded_image</th>\n",
       "      <th>question_parts</th>\n",
       "    </tr>\n",
       "  </thead>\n",
       "  <tbody>\n",
       "    <tr>\n",
       "      <th>0</th>\n",
       "      <td>1</td>\n",
       "      <td>iVBORw0KGgoAAAANSUhEUgAAEfMAABlfCAIAAAAvdKTrAA...</td>\n",
       "      <td>(a, b)</td>\n",
       "    </tr>\n",
       "    <tr>\n",
       "      <th>1</th>\n",
       "      <td>2</td>\n",
       "      <td>iVBORw0KGgoAAAANSUhEUgAAEfMAABlfCAIAAAAvdKTrAA...</td>\n",
       "      <td>(c, d)</td>\n",
       "    </tr>\n",
       "    <tr>\n",
       "      <th>2</th>\n",
       "      <td>3</td>\n",
       "      <td>iVBORw0KGgoAAAANSUhEUgAAEfMAABlfCAIAAAAvdKTrAA...</td>\n",
       "      <td>(e,)</td>\n",
       "    </tr>\n",
       "    <tr>\n",
       "      <th>3</th>\n",
       "      <td>4</td>\n",
       "      <td>iVBORw0KGgoAAAANSUhEUgAAEfMAABlfCAIAAAAvdKTrAA...</td>\n",
       "      <td>(a, b)</td>\n",
       "    </tr>\n",
       "    <tr>\n",
       "      <th>4</th>\n",
       "      <td>5</td>\n",
       "      <td>iVBORw0KGgoAAAANSUhEUgAAEfMAABlfCAIAAAAvdKTrAA...</td>\n",
       "      <td>(c,)</td>\n",
       "    </tr>\n",
       "    <tr>\n",
       "      <th>5</th>\n",
       "      <td>6</td>\n",
       "      <td>iVBORw0KGgoAAAANSUhEUgAAEfMAABlfCAIAAAAvdKTrAA...</td>\n",
       "      <td>()</td>\n",
       "    </tr>\n",
       "  </tbody>\n",
       "</table>\n",
       "</div>"
      ],
      "text/plain": [
       "   page_number                                      encoded_image  \\\n",
       "0            1  iVBORw0KGgoAAAANSUhEUgAAEfMAABlfCAIAAAAvdKTrAA...   \n",
       "1            2  iVBORw0KGgoAAAANSUhEUgAAEfMAABlfCAIAAAAvdKTrAA...   \n",
       "2            3  iVBORw0KGgoAAAANSUhEUgAAEfMAABlfCAIAAAAvdKTrAA...   \n",
       "3            4  iVBORw0KGgoAAAANSUhEUgAAEfMAABlfCAIAAAAvdKTrAA...   \n",
       "4            5  iVBORw0KGgoAAAANSUhEUgAAEfMAABlfCAIAAAAvdKTrAA...   \n",
       "5            6  iVBORw0KGgoAAAANSUhEUgAAEfMAABlfCAIAAAAvdKTrAA...   \n",
       "\n",
       "  question_parts  \n",
       "0         (a, b)  \n",
       "1         (c, d)  \n",
       "2           (e,)  \n",
       "3         (a, b)  \n",
       "4           (c,)  \n",
       "5             ()  "
      ]
     },
     "execution_count": 319,
     "metadata": {},
     "output_type": "execute_result"
    }
   ],
   "source": [
    "img_df['question_parts'] = question_parts\n",
    "img_df"
   ]
  },
  {
   "cell_type": "code",
   "execution_count": 320,
   "metadata": {},
   "outputs": [
    {
     "data": {
      "text/html": [
       "<div>\n",
       "<style scoped>\n",
       "    .dataframe tbody tr th:only-of-type {\n",
       "        vertical-align: middle;\n",
       "    }\n",
       "\n",
       "    .dataframe tbody tr th {\n",
       "        vertical-align: top;\n",
       "    }\n",
       "\n",
       "    .dataframe thead th {\n",
       "        text-align: right;\n",
       "    }\n",
       "</style>\n",
       "<table border=\"1\" class=\"dataframe\">\n",
       "  <thead>\n",
       "    <tr style=\"text-align: right;\">\n",
       "      <th></th>\n",
       "      <th>page_number</th>\n",
       "      <th>encoded_image</th>\n",
       "      <th>question_parts</th>\n",
       "      <th>contains_a</th>\n",
       "      <th>number_of_question_parts</th>\n",
       "    </tr>\n",
       "  </thead>\n",
       "  <tbody>\n",
       "    <tr>\n",
       "      <th>0</th>\n",
       "      <td>1</td>\n",
       "      <td>iVBORw0KGgoAAAANSUhEUgAAEfMAABlfCAIAAAAvdKTrAA...</td>\n",
       "      <td>(a, b)</td>\n",
       "      <td>True</td>\n",
       "      <td>2</td>\n",
       "    </tr>\n",
       "    <tr>\n",
       "      <th>1</th>\n",
       "      <td>2</td>\n",
       "      <td>iVBORw0KGgoAAAANSUhEUgAAEfMAABlfCAIAAAAvdKTrAA...</td>\n",
       "      <td>(c, d)</td>\n",
       "      <td>False</td>\n",
       "      <td>2</td>\n",
       "    </tr>\n",
       "    <tr>\n",
       "      <th>2</th>\n",
       "      <td>3</td>\n",
       "      <td>iVBORw0KGgoAAAANSUhEUgAAEfMAABlfCAIAAAAvdKTrAA...</td>\n",
       "      <td>(e,)</td>\n",
       "      <td>False</td>\n",
       "      <td>1</td>\n",
       "    </tr>\n",
       "    <tr>\n",
       "      <th>3</th>\n",
       "      <td>4</td>\n",
       "      <td>iVBORw0KGgoAAAANSUhEUgAAEfMAABlfCAIAAAAvdKTrAA...</td>\n",
       "      <td>(a, b)</td>\n",
       "      <td>True</td>\n",
       "      <td>2</td>\n",
       "    </tr>\n",
       "    <tr>\n",
       "      <th>4</th>\n",
       "      <td>5</td>\n",
       "      <td>iVBORw0KGgoAAAANSUhEUgAAEfMAABlfCAIAAAAvdKTrAA...</td>\n",
       "      <td>(c,)</td>\n",
       "      <td>False</td>\n",
       "      <td>1</td>\n",
       "    </tr>\n",
       "    <tr>\n",
       "      <th>5</th>\n",
       "      <td>6</td>\n",
       "      <td>iVBORw0KGgoAAAANSUhEUgAAEfMAABlfCAIAAAAvdKTrAA...</td>\n",
       "      <td>()</td>\n",
       "      <td>False</td>\n",
       "      <td>0</td>\n",
       "    </tr>\n",
       "  </tbody>\n",
       "</table>\n",
       "</div>"
      ],
      "text/plain": [
       "   page_number                                      encoded_image  \\\n",
       "0            1  iVBORw0KGgoAAAANSUhEUgAAEfMAABlfCAIAAAAvdKTrAA...   \n",
       "1            2  iVBORw0KGgoAAAANSUhEUgAAEfMAABlfCAIAAAAvdKTrAA...   \n",
       "2            3  iVBORw0KGgoAAAANSUhEUgAAEfMAABlfCAIAAAAvdKTrAA...   \n",
       "3            4  iVBORw0KGgoAAAANSUhEUgAAEfMAABlfCAIAAAAvdKTrAA...   \n",
       "4            5  iVBORw0KGgoAAAANSUhEUgAAEfMAABlfCAIAAAAvdKTrAA...   \n",
       "5            6  iVBORw0KGgoAAAANSUhEUgAAEfMAABlfCAIAAAAvdKTrAA...   \n",
       "\n",
       "  question_parts  contains_a  number_of_question_parts  \n",
       "0         (a, b)        True                         2  \n",
       "1         (c, d)       False                         2  \n",
       "2           (e,)       False                         1  \n",
       "3         (a, b)        True                         2  \n",
       "4           (c,)       False                         1  \n",
       "5             ()       False                         0  "
      ]
     },
     "execution_count": 320,
     "metadata": {},
     "output_type": "execute_result"
    }
   ],
   "source": [
    "img_df['contains_a'] = img_df['question_parts'].apply(lambda x: 'a' in x)\n",
    "img_df['number_of_question_parts'] = img_df['question_parts'].apply(lambda x: len(x))\n",
    "img_df"
   ]
  },
  {
   "cell_type": "code",
   "execution_count": 321,
   "metadata": {},
   "outputs": [
    {
     "data": {
      "text/html": [
       "<div>\n",
       "<style scoped>\n",
       "    .dataframe tbody tr th:only-of-type {\n",
       "        vertical-align: middle;\n",
       "    }\n",
       "\n",
       "    .dataframe tbody tr th {\n",
       "        vertical-align: top;\n",
       "    }\n",
       "\n",
       "    .dataframe thead th {\n",
       "        text-align: right;\n",
       "    }\n",
       "</style>\n",
       "<table border=\"1\" class=\"dataframe\">\n",
       "  <thead>\n",
       "    <tr style=\"text-align: right;\">\n",
       "      <th></th>\n",
       "      <th>page_number</th>\n",
       "      <th>encoded_image</th>\n",
       "      <th>question_parts</th>\n",
       "      <th>contains_a</th>\n",
       "      <th>number_of_question_parts</th>\n",
       "      <th>question_number</th>\n",
       "    </tr>\n",
       "  </thead>\n",
       "  <tbody>\n",
       "    <tr>\n",
       "      <th>0</th>\n",
       "      <td>1</td>\n",
       "      <td>iVBORw0KGgoAAAANSUhEUgAAEfMAABlfCAIAAAAvdKTrAA...</td>\n",
       "      <td>(a, b)</td>\n",
       "      <td>True</td>\n",
       "      <td>2</td>\n",
       "      <td>1</td>\n",
       "    </tr>\n",
       "    <tr>\n",
       "      <th>1</th>\n",
       "      <td>2</td>\n",
       "      <td>iVBORw0KGgoAAAANSUhEUgAAEfMAABlfCAIAAAAvdKTrAA...</td>\n",
       "      <td>(c, d)</td>\n",
       "      <td>False</td>\n",
       "      <td>2</td>\n",
       "      <td>1</td>\n",
       "    </tr>\n",
       "    <tr>\n",
       "      <th>2</th>\n",
       "      <td>3</td>\n",
       "      <td>iVBORw0KGgoAAAANSUhEUgAAEfMAABlfCAIAAAAvdKTrAA...</td>\n",
       "      <td>(e,)</td>\n",
       "      <td>False</td>\n",
       "      <td>1</td>\n",
       "      <td>1</td>\n",
       "    </tr>\n",
       "    <tr>\n",
       "      <th>3</th>\n",
       "      <td>4</td>\n",
       "      <td>iVBORw0KGgoAAAANSUhEUgAAEfMAABlfCAIAAAAvdKTrAA...</td>\n",
       "      <td>(a, b)</td>\n",
       "      <td>True</td>\n",
       "      <td>2</td>\n",
       "      <td>2</td>\n",
       "    </tr>\n",
       "    <tr>\n",
       "      <th>4</th>\n",
       "      <td>5</td>\n",
       "      <td>iVBORw0KGgoAAAANSUhEUgAAEfMAABlfCAIAAAAvdKTrAA...</td>\n",
       "      <td>(c,)</td>\n",
       "      <td>False</td>\n",
       "      <td>1</td>\n",
       "      <td>2</td>\n",
       "    </tr>\n",
       "    <tr>\n",
       "      <th>5</th>\n",
       "      <td>6</td>\n",
       "      <td>iVBORw0KGgoAAAANSUhEUgAAEfMAABlfCAIAAAAvdKTrAA...</td>\n",
       "      <td>()</td>\n",
       "      <td>False</td>\n",
       "      <td>0</td>\n",
       "      <td>2</td>\n",
       "    </tr>\n",
       "  </tbody>\n",
       "</table>\n",
       "</div>"
      ],
      "text/plain": [
       "   page_number                                      encoded_image  \\\n",
       "0            1  iVBORw0KGgoAAAANSUhEUgAAEfMAABlfCAIAAAAvdKTrAA...   \n",
       "1            2  iVBORw0KGgoAAAANSUhEUgAAEfMAABlfCAIAAAAvdKTrAA...   \n",
       "2            3  iVBORw0KGgoAAAANSUhEUgAAEfMAABlfCAIAAAAvdKTrAA...   \n",
       "3            4  iVBORw0KGgoAAAANSUhEUgAAEfMAABlfCAIAAAAvdKTrAA...   \n",
       "4            5  iVBORw0KGgoAAAANSUhEUgAAEfMAABlfCAIAAAAvdKTrAA...   \n",
       "5            6  iVBORw0KGgoAAAANSUhEUgAAEfMAABlfCAIAAAAvdKTrAA...   \n",
       "\n",
       "  question_parts  contains_a  number_of_question_parts  question_number  \n",
       "0         (a, b)        True                         2                1  \n",
       "1         (c, d)       False                         2                1  \n",
       "2           (e,)       False                         1                1  \n",
       "3         (a, b)        True                         2                2  \n",
       "4           (c,)       False                         1                2  \n",
       "5             ()       False                         0                2  "
      ]
     },
     "execution_count": 321,
     "metadata": {},
     "output_type": "execute_result"
    }
   ],
   "source": [
    "counter = 0\n",
    "q_num = []\n",
    "for i in list(img_df.contains_a):\n",
    "    counter += i\n",
    "    q_num.append(counter)\n",
    "\n",
    "img_df[\"question_number\"] = q_num\n",
    "img_df"
   ]
  },
  {
   "cell_type": "code",
   "execution_count": 322,
   "metadata": {},
   "outputs": [],
   "source": [
    "prompt1 = \"\"\"\n",
    "You are given a page from an exam paper. Your role is to extract the following details from the page:\n",
    "1. Printed Question Text\n",
    "2. Handwritten Answer Text\n",
    "\n",
    "Obey the following format\n",
    "[\n",
    "{\n",
    "\"question_text\": str,\n",
    "\"answer_text\": str\n",
    "}\n",
    "]\n",
    "\n",
    "If there are multiple questions, report all of them in a list of jsons obeying the format specified.\n",
    "If there is no information about the fields requested, return the value of those fields to be an empty string. \n",
    "Do not invent anything.\n",
    "\"\"\"\n",
    "\n",
    "prompt2 = \"\"\"\n",
    "You are given a page from an exam paper. Your role is to extract the following details from the page:\n",
    "1. Handwritten Text\n",
    "\n",
    "Obey the following format\n",
    "\n",
    "{\n",
    "\"answer_text\": str\n",
    "}\n",
    "\n",
    "If there is no information about the fields requested, return the value of those fields to be an empty string. \n",
    "Do not invent anything.\n",
    "\"\"\""
   ]
  },
  {
   "cell_type": "code",
   "execution_count": 323,
   "metadata": {},
   "outputs": [
    {
     "data": {
      "text/html": [
       "<div>\n",
       "<style scoped>\n",
       "    .dataframe tbody tr th:only-of-type {\n",
       "        vertical-align: middle;\n",
       "    }\n",
       "\n",
       "    .dataframe tbody tr th {\n",
       "        vertical-align: top;\n",
       "    }\n",
       "\n",
       "    .dataframe thead th {\n",
       "        text-align: right;\n",
       "    }\n",
       "</style>\n",
       "<table border=\"1\" class=\"dataframe\">\n",
       "  <thead>\n",
       "    <tr style=\"text-align: right;\">\n",
       "      <th></th>\n",
       "      <th>page_number</th>\n",
       "      <th>encoded_image</th>\n",
       "      <th>question_parts</th>\n",
       "      <th>contains_a</th>\n",
       "      <th>number_of_question_parts</th>\n",
       "      <th>question_number</th>\n",
       "    </tr>\n",
       "  </thead>\n",
       "  <tbody>\n",
       "    <tr>\n",
       "      <th>0</th>\n",
       "      <td>1</td>\n",
       "      <td>iVBORw0KGgoAAAANSUhEUgAAEfMAABlfCAIAAAAvdKTrAA...</td>\n",
       "      <td>(a, b)</td>\n",
       "      <td>True</td>\n",
       "      <td>2</td>\n",
       "      <td>1</td>\n",
       "    </tr>\n",
       "    <tr>\n",
       "      <th>1</th>\n",
       "      <td>2</td>\n",
       "      <td>iVBORw0KGgoAAAANSUhEUgAAEfMAABlfCAIAAAAvdKTrAA...</td>\n",
       "      <td>(c, d)</td>\n",
       "      <td>False</td>\n",
       "      <td>2</td>\n",
       "      <td>1</td>\n",
       "    </tr>\n",
       "    <tr>\n",
       "      <th>2</th>\n",
       "      <td>3</td>\n",
       "      <td>iVBORw0KGgoAAAANSUhEUgAAEfMAABlfCAIAAAAvdKTrAA...</td>\n",
       "      <td>(e,)</td>\n",
       "      <td>False</td>\n",
       "      <td>1</td>\n",
       "      <td>1</td>\n",
       "    </tr>\n",
       "    <tr>\n",
       "      <th>3</th>\n",
       "      <td>4</td>\n",
       "      <td>iVBORw0KGgoAAAANSUhEUgAAEfMAABlfCAIAAAAvdKTrAA...</td>\n",
       "      <td>(a, b)</td>\n",
       "      <td>True</td>\n",
       "      <td>2</td>\n",
       "      <td>2</td>\n",
       "    </tr>\n",
       "    <tr>\n",
       "      <th>4</th>\n",
       "      <td>5</td>\n",
       "      <td>iVBORw0KGgoAAAANSUhEUgAAEfMAABlfCAIAAAAvdKTrAA...</td>\n",
       "      <td>(c,)</td>\n",
       "      <td>False</td>\n",
       "      <td>1</td>\n",
       "      <td>2</td>\n",
       "    </tr>\n",
       "    <tr>\n",
       "      <th>5</th>\n",
       "      <td>6</td>\n",
       "      <td>iVBORw0KGgoAAAANSUhEUgAAEfMAABlfCAIAAAAvdKTrAA...</td>\n",
       "      <td>()</td>\n",
       "      <td>False</td>\n",
       "      <td>0</td>\n",
       "      <td>2</td>\n",
       "    </tr>\n",
       "  </tbody>\n",
       "</table>\n",
       "</div>"
      ],
      "text/plain": [
       "   page_number                                      encoded_image  \\\n",
       "0            1  iVBORw0KGgoAAAANSUhEUgAAEfMAABlfCAIAAAAvdKTrAA...   \n",
       "1            2  iVBORw0KGgoAAAANSUhEUgAAEfMAABlfCAIAAAAvdKTrAA...   \n",
       "2            3  iVBORw0KGgoAAAANSUhEUgAAEfMAABlfCAIAAAAvdKTrAA...   \n",
       "3            4  iVBORw0KGgoAAAANSUhEUgAAEfMAABlfCAIAAAAvdKTrAA...   \n",
       "4            5  iVBORw0KGgoAAAANSUhEUgAAEfMAABlfCAIAAAAvdKTrAA...   \n",
       "5            6  iVBORw0KGgoAAAANSUhEUgAAEfMAABlfCAIAAAAvdKTrAA...   \n",
       "\n",
       "  question_parts  contains_a  number_of_question_parts  question_number  \n",
       "0         (a, b)        True                         2                1  \n",
       "1         (c, d)       False                         2                1  \n",
       "2           (e,)       False                         1                1  \n",
       "3         (a, b)        True                         2                2  \n",
       "4           (c,)       False                         1                2  \n",
       "5             ()       False                         0                2  "
      ]
     },
     "execution_count": 323,
     "metadata": {},
     "output_type": "execute_result"
    }
   ],
   "source": [
    "img_df"
   ]
  },
  {
   "cell_type": "code",
   "execution_count": 324,
   "metadata": {},
   "outputs": [],
   "source": [
    "extracted_questions = []\n",
    "for idx, row in img_df.iterrows():\n",
    "    \n",
    "  if row['number_of_question_parts'] == 0:\n",
    "    prompt = prompt2\n",
    "  else:\n",
    "    prompt = prompt1\n",
    "  \n",
    "  payload = {\n",
    "    \"model\": model_name,\n",
    "    \"messages\": [\n",
    "      {\n",
    "        \"role\": \"user\",\n",
    "        \"content\": [\n",
    "          {\n",
    "            \"type\": \"text\",\n",
    "            \"text\": f\"{prompt}\"\n",
    "          },\n",
    "          {\n",
    "            \"type\": \"image_url\",\n",
    "            \"image_url\": {\n",
    "              \"url\": f\"data:image/jpeg;base64,{row['encoded_image']}\"\n",
    "            }\n",
    "          }\n",
    "        ]\n",
    "      }\n",
    "    ],\n",
    "    \"max_tokens\": 500\n",
    "    }\n",
    "\n",
    "  response = requests.post(\"https://api.openai.com/v1/chat/completions\", headers=headers, json=payload)\n",
    "  response_content = response.json()[\"choices\"][0][\"message\"][\"content\"]\n",
    "  \n",
    "  extracted_questions.append(response_content)"
   ]
  },
  {
   "cell_type": "code",
   "execution_count": 344,
   "metadata": {},
   "outputs": [
    {
     "name": "stdout",
     "output_type": "stream",
     "text": [
      "{\n",
      "  \"data\": [\n",
      "    {\n",
      "      \"question_text\": \"Explain one disadvantage to a small business of not paying its employees on time.\",\n",
      "      \"answer_text\": \"One disadvantage is that employees may quit. If employees quit there is more work for less people. This makes the business difficult to run.\"\n",
      "    },\n",
      "    {\n",
      "      \"question_text\": \"Explain one advantage to a small business from using retained profit as a source of finance.\",\n",
      "      \"answer_text\": \"One advantage to this is there is nobody to pay back. This means a more stable revenue which may lead to better investments for the business.\"\n",
      "    }\n",
      "  ]\n",
      "}\n"
     ]
    }
   ],
   "source": [
    "print(extracted_questions[1])"
   ]
  },
  {
   "cell_type": "code",
   "execution_count": 110,
   "metadata": {},
   "outputs": [],
   "source": [
    "def extract_json_from_markdown(markdown_string):\n",
    "    # Remove the triple backticks and 'json' from the input string\n",
    "    json_string = markdown_string.strip().strip('```json').strip('```').strip()\n",
    "    \n",
    "    # Parse the cleaned JSON string into a Python dictionary\n",
    "    data = json.loads(json_string)\n",
    "\n",
    "    if isinstance(data, list):\n",
    "        return data\n",
    "    else: \n",
    "        return [data]"
   ]
  },
  {
   "cell_type": "code",
   "execution_count": 326,
   "metadata": {},
   "outputs": [
    {
     "data": {
      "text/html": [
       "<div>\n",
       "<style scoped>\n",
       "    .dataframe tbody tr th:only-of-type {\n",
       "        vertical-align: middle;\n",
       "    }\n",
       "\n",
       "    .dataframe tbody tr th {\n",
       "        vertical-align: top;\n",
       "    }\n",
       "\n",
       "    .dataframe thead th {\n",
       "        text-align: right;\n",
       "    }\n",
       "</style>\n",
       "<table border=\"1\" class=\"dataframe\">\n",
       "  <thead>\n",
       "    <tr style=\"text-align: right;\">\n",
       "      <th></th>\n",
       "      <th>page_number</th>\n",
       "      <th>encoded_image</th>\n",
       "      <th>question_parts</th>\n",
       "      <th>contains_a</th>\n",
       "      <th>number_of_question_parts</th>\n",
       "      <th>question_number</th>\n",
       "      <th>extracted_text</th>\n",
       "    </tr>\n",
       "  </thead>\n",
       "  <tbody>\n",
       "    <tr>\n",
       "      <th>0</th>\n",
       "      <td>1</td>\n",
       "      <td>iVBORw0KGgoAAAANSUhEUgAAEfMAABlfCAIAAAAvdKTrAA...</td>\n",
       "      <td>(a, b)</td>\n",
       "      <td>True</td>\n",
       "      <td>2</td>\n",
       "      <td>1</td>\n",
       "      <td>[{'details': [{'question_text': 'Which one of ...</td>\n",
       "    </tr>\n",
       "    <tr>\n",
       "      <th>1</th>\n",
       "      <td>2</td>\n",
       "      <td>iVBORw0KGgoAAAANSUhEUgAAEfMAABlfCAIAAAAvdKTrAA...</td>\n",
       "      <td>(c, d)</td>\n",
       "      <td>False</td>\n",
       "      <td>2</td>\n",
       "      <td>1</td>\n",
       "      <td>[{'data': [{'question_text': 'Explain one disa...</td>\n",
       "    </tr>\n",
       "    <tr>\n",
       "      <th>2</th>\n",
       "      <td>3</td>\n",
       "      <td>iVBORw0KGgoAAAANSUhEUgAAEfMAABlfCAIAAAAvdKTrAA...</td>\n",
       "      <td>(e,)</td>\n",
       "      <td>False</td>\n",
       "      <td>1</td>\n",
       "      <td>1</td>\n",
       "      <td>[{'question_text': 'Discuss the impact on a sm...</td>\n",
       "    </tr>\n",
       "    <tr>\n",
       "      <th>3</th>\n",
       "      <td>4</td>\n",
       "      <td>iVBORw0KGgoAAAANSUhEUgAAEfMAABlfCAIAAAAvdKTrAA...</td>\n",
       "      <td>(a, b)</td>\n",
       "      <td>True</td>\n",
       "      <td>2</td>\n",
       "      <td>2</td>\n",
       "      <td>[{'question_text': 'State one element of the m...</td>\n",
       "    </tr>\n",
       "    <tr>\n",
       "      <th>4</th>\n",
       "      <td>5</td>\n",
       "      <td>iVBORw0KGgoAAAANSUhEUgAAEfMAABlfCAIAAAAvdKTrAA...</td>\n",
       "      <td>(c,)</td>\n",
       "      <td>False</td>\n",
       "      <td>1</td>\n",
       "      <td>2</td>\n",
       "      <td>[{'question_text': 'In order to make the busin...</td>\n",
       "    </tr>\n",
       "    <tr>\n",
       "      <th>5</th>\n",
       "      <td>6</td>\n",
       "      <td>iVBORw0KGgoAAAANSUhEUgAAEfMAABlfCAIAAAAvdKTrAA...</td>\n",
       "      <td>()</td>\n",
       "      <td>False</td>\n",
       "      <td>0</td>\n",
       "      <td>2</td>\n",
       "      <td>[{'answer_text': ''}]</td>\n",
       "    </tr>\n",
       "  </tbody>\n",
       "</table>\n",
       "</div>"
      ],
      "text/plain": [
       "   page_number                                      encoded_image  \\\n",
       "0            1  iVBORw0KGgoAAAANSUhEUgAAEfMAABlfCAIAAAAvdKTrAA...   \n",
       "1            2  iVBORw0KGgoAAAANSUhEUgAAEfMAABlfCAIAAAAvdKTrAA...   \n",
       "2            3  iVBORw0KGgoAAAANSUhEUgAAEfMAABlfCAIAAAAvdKTrAA...   \n",
       "3            4  iVBORw0KGgoAAAANSUhEUgAAEfMAABlfCAIAAAAvdKTrAA...   \n",
       "4            5  iVBORw0KGgoAAAANSUhEUgAAEfMAABlfCAIAAAAvdKTrAA...   \n",
       "5            6  iVBORw0KGgoAAAANSUhEUgAAEfMAABlfCAIAAAAvdKTrAA...   \n",
       "\n",
       "  question_parts  contains_a  number_of_question_parts  question_number  \\\n",
       "0         (a, b)        True                         2                1   \n",
       "1         (c, d)       False                         2                1   \n",
       "2           (e,)       False                         1                1   \n",
       "3         (a, b)        True                         2                2   \n",
       "4           (c,)       False                         1                2   \n",
       "5             ()       False                         0                2   \n",
       "\n",
       "                                      extracted_text  \n",
       "0  [{'details': [{'question_text': 'Which one of ...  \n",
       "1  [{'data': [{'question_text': 'Explain one disa...  \n",
       "2  [{'question_text': 'Discuss the impact on a sm...  \n",
       "3  [{'question_text': 'State one element of the m...  \n",
       "4  [{'question_text': 'In order to make the busin...  \n",
       "5                              [{'answer_text': ''}]  "
      ]
     },
     "execution_count": 326,
     "metadata": {},
     "output_type": "execute_result"
    }
   ],
   "source": [
    "img_df[\"extracted_text\"] = [extract_json_from_markdown(i) for i in extracted_questions]\n",
    "img_df"
   ]
  },
  {
   "cell_type": "code",
   "execution_count": 116,
   "metadata": {},
   "outputs": [
    {
     "data": {
      "text/plain": [
       "[1]"
      ]
     },
     "execution_count": 116,
     "metadata": {},
     "output_type": "execute_result"
    }
   ],
   "source": [
    "for idx, q_num in enumerate(list(set(img_df.question_number))):\n",
    "\n",
    "    img_df[img_df.question_numer == q_num].extracted_text"
   ]
  },
  {
   "cell_type": "code",
   "execution_count": 262,
   "metadata": {},
   "outputs": [
    {
     "data": {
      "text/plain": [
       "['a', 'b', 'c', 'c']"
      ]
     },
     "execution_count": 262,
     "metadata": {},
     "output_type": "execute_result"
    }
   ],
   "source": [
    "q_num = 1\n",
    "l = img_df[img_df.question_number == q_num].question_parts.to_list()\n",
    "m = [list(i) for i in l]\n",
    "\n",
    "for j in m:\n",
    "    if len(j) == 0:\n",
    "        j.append('')\n",
    "\n",
    "question_parts_collapsed = [item for sublist in m for item in sublist]\n",
    "question_parts_collapsed\n",
    "\n",
    "augmented_question_parts = []\n",
    "for idx, question_part in enumerate(question_parts_collapsed):\n",
    "    if question_part == '':\n",
    "        augmented_question_parts.append(question_parts_collapsed[idx - 1])\n",
    "    else:\n",
    "        augmented_question_parts.append(question_part)\n",
    "\n",
    "augmented_question_parts\n"
   ]
  },
  {
   "cell_type": "code",
   "execution_count": 283,
   "metadata": {},
   "outputs": [
    {
     "data": {
      "text/plain": [
       "[{'question_text': 'State one element of the marketing mix, other than price, for Lili Heating Ltd.',\n",
       "  'answer_text': 'Age',\n",
       "  'question_part': 'a',\n",
       "  'question_number': 1},\n",
       " {'question_text': 'Outline one reason why the government would want Lili Heating Ltd to be successful.',\n",
       "  'answer_text': 'Everybody has heating therefore the government can tax the company more as it will have higher income.',\n",
       "  'question_part': 'b',\n",
       "  'question_number': 1},\n",
       " {'question_text': 'In order to make the business more successful, Lili Heating Ltd is considering two options:\\n\\nOption 1: offer a discounted price to female customers\\n\\nOption 2: use social media to promote the business.\\n\\n(c) Justify which one of these two options Lili Heating Ltd should choose.',\n",
       "  'answer_text': 'In my opinion the business should take option two as many people are willing to pay high prices and almost everybody is on social media. This is better advertising. Option 1 may not make a big difference as it is uncommon for females to be into these topics. It is a stereotypical male area of interest. Option 2 could bring in alot more customers leading to more potential income.',\n",
       "  'question_part': 'c',\n",
       "  'question_number': 1},\n",
       " {'answer_text': '',\n",
       "  'question_part': 'c',\n",
       "  'question_number': 1,\n",
       "  'question_text': ''}]"
      ]
     },
     "execution_count": 283,
     "metadata": {},
     "output_type": "execute_result"
    }
   ],
   "source": [
    "extracted_questions_by_part = img_df[img_df.question_number == q_num].extracted_text.sum()\n",
    "\n",
    "for idx, question_part in enumerate(augmented_question_parts):\n",
    "    extracted_questions_by_part[idx][\"question_part\"] = question_part\n",
    "    extracted_questions_by_part[idx][\"question_number\"] = q_num\n",
    "    if not extracted_questions_by_part[idx].get(\"question_text\"):\n",
    "        extracted_questions_by_part[idx][\"question_text\"] = \"\"\n",
    "\n",
    "extracted_questions_by_part"
   ]
  },
  {
   "cell_type": "code",
   "execution_count": 284,
   "metadata": {},
   "outputs": [
    {
     "data": {
      "text/plain": [
       "[(1, 'b'), (1, 'a'), (1, 'c')]"
      ]
     },
     "execution_count": 284,
     "metadata": {},
     "output_type": "execute_result"
    }
   ],
   "source": [
    "unique_qp_qn = list(set([(i['question_number'], i[\"question_part\"]) for i in extracted_questions_by_part]))\n",
    "unique_qp_qn "
   ]
  },
  {
   "cell_type": "code",
   "execution_count": 285,
   "metadata": {},
   "outputs": [
    {
     "name": "stdout",
     "output_type": "stream",
     "text": [
      "[{'question_text': 'Outline one reason why the government would want Lili Heating Ltd to be successful.', 'answer_text': 'Everybody has heating therefore the government can tax the company more as it will have higher income.', 'question_part': 'b', 'question_number': 1}]\n",
      "[{'question_text': 'State one element of the marketing mix, other than price, for Lili Heating Ltd.', 'answer_text': 'Age', 'question_part': 'a', 'question_number': 1}]\n",
      "[{'question_text': 'In order to make the business more successful, Lili Heating Ltd is considering two options:\\n\\nOption 1: offer a discounted price to female customers\\n\\nOption 2: use social media to promote the business.\\n\\n(c) Justify which one of these two options Lili Heating Ltd should choose.', 'answer_text': 'In my opinion the business should take option two as many people are willing to pay high prices and almost everybody is on social media. This is better advertising. Option 1 may not make a big difference as it is uncommon for females to be into these topics. It is a stereotypical male area of interest. Option 2 could bring in alot more customers leading to more potential income.', 'question_part': 'c', 'question_number': 1}, {'answer_text': '', 'question_part': 'c', 'question_number': 1, 'question_text': ''}]\n"
     ]
    }
   ],
   "source": [
    "output_lst = []\n",
    "\n",
    "for idx, record in enumerate(unique_qp_qn):\n",
    "    qp = record[1]\n",
    "    qn = record[0]\n",
    "\n",
    "    question_set = list(compress(extracted_questions_by_part, [(i['question_number'] == qn and i['question_part'] == qp) for i in extracted_questions_by_part]))\n",
    "    print(question_set)\n",
    "    output_lst.append(merge_dict_on_common_keys(question_set))"
   ]
  },
  {
   "cell_type": "code",
   "execution_count": 286,
   "metadata": {},
   "outputs": [
    {
     "data": {
      "text/plain": [
       "[[{'question_text': 'Outline one reason why the government would want Lili Heating Ltd to be successful.',\n",
       "   'answer_text': 'Everybody has heating therefore the government can tax the company more as it will have higher income.',\n",
       "   'question_part': 'b',\n",
       "   'question_number': 1}],\n",
       " [{'question_text': 'State one element of the marketing mix, other than price, for Lili Heating Ltd.',\n",
       "   'answer_text': 'Age',\n",
       "   'question_part': 'a',\n",
       "   'question_number': 1}],\n",
       " {'question_text': 'In order to make the business more successful, Lili Heating Ltd is considering two options:\\n\\nOption 1: offer a discounted price to female customers\\n\\nOption 2: use social media to promote the business.\\n\\n(c) Justify which one of these two options Lili Heating Ltd should choose.',\n",
       "  'answer_text': 'In my opinion the business should take option two as many people are willing to pay high prices and almost everybody is on social media. This is better advertising. Option 1 may not make a big difference as it is uncommon for females to be into these topics. It is a stereotypical male area of interest. Option 2 could bring in alot more customers leading to more potential income.',\n",
       "  'question_part': 'c',\n",
       "  'question_number': 1}]"
      ]
     },
     "execution_count": 286,
     "metadata": {},
     "output_type": "execute_result"
    }
   ],
   "source": [
    "output_lst"
   ]
  },
  {
   "cell_type": "code",
   "execution_count": 234,
   "metadata": {},
   "outputs": [],
   "source": [
    "from collections import OrderedDict\n",
    "from itertools import compress\n"
   ]
  },
  {
   "cell_type": "code",
   "execution_count": 301,
   "metadata": {},
   "outputs": [],
   "source": [
    "# Helper Functions\n",
    "\n",
    "def merge_dict_on_common_keys(dicts):\n",
    "\n",
    "    if len(dicts) == 1:\n",
    "        comb_dict = dicts[0]\n",
    "    else:\n",
    "        dict_keys = list(dicts[0].keys())\n",
    "        comb_dict = {}\n",
    "\n",
    "        for key in dict_keys:\n",
    "            vals = [record[key] for record in dicts] \n",
    "            dedup_vals = list(OrderedDict.fromkeys(vals))\n",
    "\n",
    "            if len(dedup_vals) == 1:\n",
    "                comb_dict[key] = dedup_vals[0]\n",
    "            else: \n",
    "                comb_dict[key] = \"\".join(dedup_vals)\n",
    "        \n",
    "    return comb_dict\n",
    "  \n"
   ]
  },
  {
   "cell_type": "code",
   "execution_count": 328,
   "metadata": {},
   "outputs": [
    {
     "data": {
      "text/html": [
       "<div>\n",
       "<style scoped>\n",
       "    .dataframe tbody tr th:only-of-type {\n",
       "        vertical-align: middle;\n",
       "    }\n",
       "\n",
       "    .dataframe tbody tr th {\n",
       "        vertical-align: top;\n",
       "    }\n",
       "\n",
       "    .dataframe thead th {\n",
       "        text-align: right;\n",
       "    }\n",
       "</style>\n",
       "<table border=\"1\" class=\"dataframe\">\n",
       "  <thead>\n",
       "    <tr style=\"text-align: right;\">\n",
       "      <th></th>\n",
       "      <th>page_number</th>\n",
       "      <th>encoded_image</th>\n",
       "      <th>question_parts</th>\n",
       "      <th>contains_a</th>\n",
       "      <th>number_of_question_parts</th>\n",
       "      <th>question_number</th>\n",
       "      <th>extracted_text</th>\n",
       "    </tr>\n",
       "  </thead>\n",
       "  <tbody>\n",
       "    <tr>\n",
       "      <th>0</th>\n",
       "      <td>1</td>\n",
       "      <td>iVBORw0KGgoAAAANSUhEUgAAEfMAABlfCAIAAAAvdKTrAA...</td>\n",
       "      <td>(a, b)</td>\n",
       "      <td>True</td>\n",
       "      <td>2</td>\n",
       "      <td>1</td>\n",
       "      <td>[{'details': [{'question_text': 'Which one of ...</td>\n",
       "    </tr>\n",
       "    <tr>\n",
       "      <th>1</th>\n",
       "      <td>2</td>\n",
       "      <td>iVBORw0KGgoAAAANSUhEUgAAEfMAABlfCAIAAAAvdKTrAA...</td>\n",
       "      <td>(c, d)</td>\n",
       "      <td>False</td>\n",
       "      <td>2</td>\n",
       "      <td>1</td>\n",
       "      <td>[{'data': [{'question_text': 'Explain one disa...</td>\n",
       "    </tr>\n",
       "    <tr>\n",
       "      <th>2</th>\n",
       "      <td>3</td>\n",
       "      <td>iVBORw0KGgoAAAANSUhEUgAAEfMAABlfCAIAAAAvdKTrAA...</td>\n",
       "      <td>(e,)</td>\n",
       "      <td>False</td>\n",
       "      <td>1</td>\n",
       "      <td>1</td>\n",
       "      <td>[{'question_text': 'Discuss the impact on a sm...</td>\n",
       "    </tr>\n",
       "    <tr>\n",
       "      <th>3</th>\n",
       "      <td>4</td>\n",
       "      <td>iVBORw0KGgoAAAANSUhEUgAAEfMAABlfCAIAAAAvdKTrAA...</td>\n",
       "      <td>(a, b)</td>\n",
       "      <td>True</td>\n",
       "      <td>2</td>\n",
       "      <td>2</td>\n",
       "      <td>[{'question_text': 'State one element of the m...</td>\n",
       "    </tr>\n",
       "    <tr>\n",
       "      <th>4</th>\n",
       "      <td>5</td>\n",
       "      <td>iVBORw0KGgoAAAANSUhEUgAAEfMAABlfCAIAAAAvdKTrAA...</td>\n",
       "      <td>(c,)</td>\n",
       "      <td>False</td>\n",
       "      <td>1</td>\n",
       "      <td>2</td>\n",
       "      <td>[{'question_text': 'In order to make the busin...</td>\n",
       "    </tr>\n",
       "    <tr>\n",
       "      <th>5</th>\n",
       "      <td>6</td>\n",
       "      <td>iVBORw0KGgoAAAANSUhEUgAAEfMAABlfCAIAAAAvdKTrAA...</td>\n",
       "      <td>()</td>\n",
       "      <td>False</td>\n",
       "      <td>0</td>\n",
       "      <td>2</td>\n",
       "      <td>[{'answer_text': ''}]</td>\n",
       "    </tr>\n",
       "  </tbody>\n",
       "</table>\n",
       "</div>"
      ],
      "text/plain": [
       "   page_number                                      encoded_image  \\\n",
       "0            1  iVBORw0KGgoAAAANSUhEUgAAEfMAABlfCAIAAAAvdKTrAA...   \n",
       "1            2  iVBORw0KGgoAAAANSUhEUgAAEfMAABlfCAIAAAAvdKTrAA...   \n",
       "2            3  iVBORw0KGgoAAAANSUhEUgAAEfMAABlfCAIAAAAvdKTrAA...   \n",
       "3            4  iVBORw0KGgoAAAANSUhEUgAAEfMAABlfCAIAAAAvdKTrAA...   \n",
       "4            5  iVBORw0KGgoAAAANSUhEUgAAEfMAABlfCAIAAAAvdKTrAA...   \n",
       "5            6  iVBORw0KGgoAAAANSUhEUgAAEfMAABlfCAIAAAAvdKTrAA...   \n",
       "\n",
       "  question_parts  contains_a  number_of_question_parts  question_number  \\\n",
       "0         (a, b)        True                         2                1   \n",
       "1         (c, d)       False                         2                1   \n",
       "2           (e,)       False                         1                1   \n",
       "3         (a, b)        True                         2                2   \n",
       "4           (c,)       False                         1                2   \n",
       "5             ()       False                         0                2   \n",
       "\n",
       "                                      extracted_text  \n",
       "0  [{'details': [{'question_text': 'Which one of ...  \n",
       "1  [{'data': [{'question_text': 'Explain one disa...  \n",
       "2  [{'question_text': 'Discuss the impact on a sm...  \n",
       "3  [{'question_text': 'State one element of the m...  \n",
       "4  [{'question_text': 'In order to make the busin...  \n",
       "5                              [{'answer_text': ''}]  "
      ]
     },
     "execution_count": 328,
     "metadata": {},
     "output_type": "execute_result"
    }
   ],
   "source": [
    "img_df"
   ]
  },
  {
   "cell_type": "code",
   "execution_count": 329,
   "metadata": {},
   "outputs": [
    {
     "name": "stdout",
     "output_type": "stream",
     "text": [
      "1\n"
     ]
    },
    {
     "ename": "IndexError",
     "evalue": "list index out of range",
     "output_type": "error",
     "traceback": [
      "\u001b[0;31m---------------------------------------------------------------------------\u001b[0m",
      "\u001b[0;31mIndexError\u001b[0m                                Traceback (most recent call last)",
      "Cell \u001b[0;32mIn[329], line 27\u001b[0m\n\u001b[1;32m     24\u001b[0m extracted_questions_by_part \u001b[38;5;241m=\u001b[39m img_df[img_df\u001b[38;5;241m.\u001b[39mquestion_number \u001b[38;5;241m==\u001b[39m q_num]\u001b[38;5;241m.\u001b[39mextracted_text\u001b[38;5;241m.\u001b[39msum()\n\u001b[1;32m     26\u001b[0m \u001b[38;5;28;01mfor\u001b[39;00m idx, question_part \u001b[38;5;129;01min\u001b[39;00m \u001b[38;5;28menumerate\u001b[39m(augmented_question_parts):\n\u001b[0;32m---> 27\u001b[0m     \u001b[43mextracted_questions_by_part\u001b[49m\u001b[43m[\u001b[49m\u001b[43midx\u001b[49m\u001b[43m]\u001b[49m[\u001b[38;5;124m\"\u001b[39m\u001b[38;5;124mquestion_part\u001b[39m\u001b[38;5;124m\"\u001b[39m] \u001b[38;5;241m=\u001b[39m question_part\n\u001b[1;32m     28\u001b[0m     extracted_questions_by_part[idx][\u001b[38;5;124m\"\u001b[39m\u001b[38;5;124mquestion_number\u001b[39m\u001b[38;5;124m\"\u001b[39m] \u001b[38;5;241m=\u001b[39m q_num\n\u001b[1;32m     29\u001b[0m     \u001b[38;5;28;01mif\u001b[39;00m \u001b[38;5;129;01mnot\u001b[39;00m extracted_questions_by_part[idx]\u001b[38;5;241m.\u001b[39mget(\u001b[38;5;124m\"\u001b[39m\u001b[38;5;124mquestion_text\u001b[39m\u001b[38;5;124m\"\u001b[39m):\n",
      "\u001b[0;31mIndexError\u001b[0m: list index out of range"
     ]
    }
   ],
   "source": [
    "all_questions_lst = []\n",
    "for idx, q_num in enumerate(list(set(img_df.question_number))):\n",
    "\n",
    "    # Get question parts for a question number\n",
    "    print(q_num)\n",
    "    l = img_df[img_df.question_number == q_num].question_parts.to_list()\n",
    "    m = [list(i) for i in l]\n",
    "\n",
    "    for j in m:\n",
    "        if len(j) == 0:\n",
    "            j.append('')\n",
    "\n",
    "    question_parts_collapsed = [item for sublist in m for item in sublist]\n",
    "    question_parts_collapsed\n",
    "\n",
    "    augmented_question_parts = []\n",
    "    for idx, question_part in enumerate(question_parts_collapsed):\n",
    "        if question_part == '':\n",
    "            augmented_question_parts.append(question_parts_collapsed[idx - 1])\n",
    "        else:\n",
    "            augmented_question_parts.append(question_part)\n",
    "\n",
    "    # Combine question number and question parts\n",
    "    extracted_questions_by_part = img_df[img_df.question_number == q_num].extracted_text.sum()\n",
    "\n",
    "    for idx, question_part in enumerate(augmented_question_parts):\n",
    "        extracted_questions_by_part[idx][\"question_part\"] = question_part\n",
    "        extracted_questions_by_part[idx][\"question_number\"] = q_num\n",
    "        if not extracted_questions_by_part[idx].get(\"question_text\"):\n",
    "            extracted_questions_by_part[idx][\"question_text\"] = \"\"\n",
    "    \n",
    "    # Align Questions and Answers\n",
    "    unique_qp_qn = list(set([(i['question_number'], i[\"question_part\"]) for i in extracted_questions_by_part]))\n",
    "\n",
    "    #output_lst = []\n",
    "    for idx, record in enumerate(unique_qp_qn):\n",
    "        qp = record[1]\n",
    "        qn = record[0]\n",
    "\n",
    "        question_set = list(compress(extracted_questions_by_part, [(i['question_number'] == qn and i['question_part'] == qp) for i in extracted_questions_by_part]))\n",
    "        all_questions_lst.append(merge_dict_on_common_keys(question_set))\n",
    "    \n",
    "    #all_questions_lst.append(output_lst)"
   ]
  },
  {
   "cell_type": "code",
   "execution_count": 305,
   "metadata": {},
   "outputs": [
    {
     "data": {
      "text/plain": [
       "[{'question_text': 'Outline one reason why the government would want Lili Heating Ltd to be successful.',\n",
       "  'answer_text': 'Everybody has heating therefore the government can tax the company more as it will have higher income.',\n",
       "  'question_part': 'b',\n",
       "  'question_number': 1},\n",
       " {'question_text': 'State one element of the marketing mix, other than price, for Lili Heating Ltd.',\n",
       "  'answer_text': 'Age',\n",
       "  'question_part': 'a',\n",
       "  'question_number': 1},\n",
       " {'question_text': 'In order to make the business more successful, Lili Heating Ltd is considering two options:\\n\\nOption 1: offer a discounted price to female customers\\n\\nOption 2: use social media to promote the business.\\n\\n(c) Justify which one of these two options Lili Heating Ltd should choose.',\n",
       "  'answer_text': 'In my opinion the business should take option two as many people are willing to pay high prices and almost everybody is on social media. This is better advertising. Option 1 may not make a big difference as it is uncommon for females to be into these topics. It is a stereotypical male area of interest. Option 2 could bring in alot more customers leading to more potential income.',\n",
       "  'question_part': 'c',\n",
       "  'question_number': 1}]"
      ]
     },
     "execution_count": 305,
     "metadata": {},
     "output_type": "execute_result"
    }
   ],
   "source": [
    "all_questions_lst"
   ]
  },
  {
   "cell_type": "code",
   "execution_count": 335,
   "metadata": {},
   "outputs": [
    {
     "data": {
      "text/plain": [
       "[{'details': [{'question_text': 'Which one of the following could a small business use to add value?\\nSelect one answer.\\n A Locate in a convenient place\\n  B Pay a higher rate of taxation\\n  C Reduce its cash inflows\\n  D Use a long-term source of finance',\n",
       "    'answer_text': ''},\n",
       "   {'question_text': 'Using the information in Figure 1, calculate the revenue for March. You are advised to show your workings.',\n",
       "    'answer_text': '7200 units sold. £5.20 each. 7200 x £5.20 = £37,440'}],\n",
       "  'question_part': 'a',\n",
       "  'question_number': 1,\n",
       "  'question_text': ''},\n",
       " {'data': [{'question_text': 'Explain one disadvantage to a small business of not paying its employees on time.',\n",
       "    'answer_text': 'One disadvantage is that employees may quit. If employees quit there is more work for less people. This makes the business difficult to run.'},\n",
       "   {'question_text': 'Explain one advantage to a small business from using retained profit as a source of finance.',\n",
       "    'answer_text': 'One advantage to this is there is nobody to pay back. This means a more stable revenue which may lead to better investments for the business.'}],\n",
       "  'question_part': 'b',\n",
       "  'question_number': 1,\n",
       "  'question_text': ''},\n",
       " {'question_text': 'Discuss the impact on a small business from adapting existing products to develop new business ideas.',\n",
       "  'answer_text': 'This is good as it is cheaper which leaves more money for the business, possibly leading to higher income. However, this is bad because the product being adapted may be obsolete. This means that nobody will buy the product, leading to resources used to adapt the product is being wasted.',\n",
       "  'question_part': 'c',\n",
       "  'question_number': 1}]"
      ]
     },
     "execution_count": 335,
     "metadata": {},
     "output_type": "execute_result"
    }
   ],
   "source": [
    "extracted_questions_by_part"
   ]
  },
  {
   "cell_type": "code",
   "execution_count": null,
   "metadata": {},
   "outputs": [],
   "source": []
  }
 ],
 "metadata": {
  "kernelspec": {
   "display_name": "extract_questions_from_paper",
   "language": "python",
   "name": "python3"
  },
  "language_info": {
   "codemirror_mode": {
    "name": "ipython",
    "version": 3
   },
   "file_extension": ".py",
   "mimetype": "text/x-python",
   "name": "python",
   "nbconvert_exporter": "python",
   "pygments_lexer": "ipython3",
   "version": "3.9.7"
  }
 },
 "nbformat": 4,
 "nbformat_minor": 2
}
